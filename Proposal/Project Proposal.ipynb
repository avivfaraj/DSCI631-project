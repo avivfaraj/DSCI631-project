{
 "cells": [
  {
   "cell_type": "markdown",
   "metadata": {
    "id": "jBIK67Cwhdv7"
   },
   "source": [
    "# Project Proposal - New York City Property Sales"
   ]
  },
  {
   "cell_type": "markdown",
   "metadata": {
    "id": "PUQTGX3WiPbJ"
   },
   "source": [
    "## Team Members:\n",
    "1. Aviv Farag - af3228@drexel.edu\n",
    "2. Abdulaziz Alquzi - aa4472@drexel.edu\n",
    "3. Jospeh Logan - jrl362@drexel.edu\n"
   ]
  },
  {
   "cell_type": "markdown",
   "metadata": {
    "id": "99FjohRcwmY3"
   },
   "source": [
    "## Topic - Business Problem Statement\n",
    "\n",
    "We are data science consultants who are contracted by property management investors in New York City. Their company, supported by investors, wants to buy residential real estate in NYC at the cheapest price possible, renovate, then resell within a year. The renovation analysis is outside the scope of this project, but they want a baseline model that can predict the price of residential real-estate in order to :\n",
    " \n",
    "1. Identify potential undervalued listed properties to buy\n",
    "2. Predict market price when it’s time to sell in order to sell quickly while maximizing return on investment\n",
    " \n",
    "Because the want to renovate and sell the properties quickly, they want less than 10 residential units, and properties less than 5 million each but are at least ten thousand.\n"
   ]
  },
  {
   "cell_type": "markdown",
   "metadata": {
    "id": "R5cDD40sibd5"
   },
   "source": [
    "## Dataset Description\n",
    "\n",
    "`df.info()`:\n",
    "\n",
    "<center><img  src=\"img/data_before_cleaning.png\" width = \"60%\" />\n",
    "<br>\n",
    "<b><u>Fig. 1</u></b>: Data info before cleaning </center>\n",
    "\n",
    "### Missing Values\n",
    "\n",
    "1. *TAX CLASS AT PRESENT* - 738 missing values (single space \" \")\n",
    "1. *BUILDING CLASS AT PRESENT* - 738 missing values (single space \" \")\n",
    "1. *APARTMENT NUMBER* - 65496 missing values (single space \" \")<br>\n",
    "NOTE: Apartment Number shouldn't affect prices, so we can ignore it for our analysis and leave it with missing values.\n",
    "1. *YEAR BUILT* - 6970 missing values (value is 0)\n",
    "1. *SALE PRICE* - 14561 missing values (NaN)\n",
    "1. *LAND SQUARE FEET* - 26252 missing values (NaN)\n",
    "1. GROSS SQUARE FEET - 27612 missing values (NaN)\n",
    "\n",
    "### Cleaning Data\n",
    "Replace price missing values with NaN and drop unneccessary indices:\n",
    "```\n",
    "# Replacing missing values with NaN\n",
    "df.replace(\" -  \",np.nan, inplace = True)\n",
    "\n",
    "# Dropping index and EASE-MENT\n",
    "df.drop(['EASE-MENT',\n",
    "         'Unnamed: 0',\n",
    "         'APARTMENT NUMBER',\n",
    "         'BUILDING CLASS AT TIME OF SALE'], axis=1, inplace=True)\n",
    "```\n",
    "\n",
    "We would like to focus on residential real-estate, and therefore we choose to work on a specific building class categories:\n",
    "```\n",
    "# Removing white spaces\n",
    "df['BUILDING CLASS CATEGORY'] = df['BUILDING CLASS CATEGORY'].str.lstrip()\n",
    "df['BUILDING CLASS CATEGORY'] = df['BUILDING CLASS CATEGORY'].str.rstrip()\n",
    "\n",
    "# Categories we would like to focus on \n",
    "df1 = df.loc[df['BUILDING CLASS CATEGORY']=='01 ONE FAMILY DWELLINGS']\n",
    "df2 = df.loc[df['BUILDING CLASS CATEGORY']=='02 TWO FAMILY DWELLINGS']\n",
    "df3 = df.loc[df['BUILDING CLASS CATEGORY']=='13 CONDOS - ELEVATOR APARTMENTS']\n",
    "df4 = df.loc[df['BUILDING CLASS CATEGORY']=='10 COOPS - ELEVATOR APARTMENTS']\n",
    "df5 = df.loc[df['BUILDING CLASS CATEGORY']=='03 THREE FAMILY DWELLINGS']\n",
    "df6 = df.loc[df['BUILDING CLASS CATEGORY']=='09 COOPS - WALKUP APARTMENTS']\n",
    "df7 = df.loc[df['BUILDING CLASS CATEGORY']=='15 CONDOS - 2-10 UNIT RESIDENTIAL']\n",
    "df8 = df.loc[df['BUILDING CLASS CATEGORY']=='07 RENTALS - WALKUP APARTMENTS']\n",
    "df9 = df.loc[df['BUILDING CLASS CATEGORY']=='08 RENTALS - ELEVATOR APARTMENTS']\n",
    "df10 = df.loc[df['BUILDING CLASS CATEGORY']=='06 TAX CLASS 1 - OTHER']\n",
    "df11 = df.loc[df['BUILDING CLASS CATEGORY']=='41 TAX CLASS 4 - OTHER']\n",
    "df12 = df.loc[df['BUILDING CLASS CATEGORY']=='04 TAX CLASS 1 CONDOS']\n",
    "\n",
    "# Concat dataframes\n",
    "applist = [df1,df2,df3,df4,df5,df6,df7,df8,df9,df10,df11,df12]\n",
    "df = pd.concat(applist)\n",
    "```\n",
    "\n",
    "Moreover, there were some properties that their sale price is 0, so we filter the rows by selecting the ones with sale price between 10,000 and 5,000,000:\n",
    "```\n",
    "# Choose rwos with sale price within our desired range\n",
    "df = df[df['SALE PRICE'] > 10000]\n",
    "df = df[df['SALE PRICE'] < 5000000]\n",
    "```\n",
    "\n",
    "In addition, we chose to focus on sales in which the residential units is in the range between 1 and 9 (inlcusive) and no commercial units: \n",
    "```\n",
    "# Residential units in range between 1 and 9 inclusive\n",
    "df = df[df['RESIDENTIAL UNITS'] < 10]\n",
    "df = df[df['RESIDENTIAL UNITS'] != 0]\n",
    "\n",
    "# No commercial units \n",
    "df = df[df['COMMERCIAL UNITS'] == 0]\n",
    "\n",
    "# drop unnecessary column\n",
    "df.drop(labels = [\"COMMERCIAL UNITS\",\"TOTAL UNITS\"], axis = 1, inplace = True)\n",
    "\n",
    "```\n",
    "\n",
    "Finally, we delete all duplicated rows: \n",
    "```\n",
    "# Drop duplicates in our dataframe\n",
    "df.drop_duplicates(inplace = True)\n",
    "```\n",
    "\n",
    "\n",
    "\n",
    "\n",
    "`df.info()`:\n",
    "<center><img  src=\"img/info_after_cleaning.png\" width = \"60%\" />\n",
    "<br>\n",
    "<b><u>Fig. 2</u></b>: Data info after cleaning</center>\n"
   ]
  },
  {
   "cell_type": "markdown",
   "metadata": {
    "id": "oIz0gD4Ct4cw"
   },
   "source": [
    "\n",
    "### Initial  Feature Analysis:\n",
    "\n",
    " \n",
    "1. **Borough** is the borough in which the unit is located: '1':'Manhattan', '2':'Bronx', '3': 'Brooklyn', '4':'Queens','5':'Staten Island'. Location is a key feature in real estate, and this is especially true in NYC. For the purposes of exploratory analysis, we have converted the numeric values into their proper names.  Below you will see a clear distinction in price by neighborhood, with Manhattan being much more expensive. For constructing the model we will likely one hot encode.<br><br>\n",
    " \n",
    "1. **Neighborhood** is the specific neighborhood within the borough. There is a strong relationship with neighborhood and sale price. Much like borough, because the neighborhoods are not explicitly ranked, a one hot coding strategy will likely be used.<br><br>\n",
    " \n",
    "1. **Building Class Category** is an important feature as it separates between attached and unattached houses or elevator apartments.<br><br>\n",
    " \n",
    "1. **Tax class a present** is the tax class and is heavily correlated with both sale price and tax class at time of sale. Tax class and number of units as correlated as the tax class depends on how may units. There is a big risk of data leakage with this feature. The models real world success would depend on accurately determining the tax class before selling or purchasing a property. Because of this, we may want to remove this feature.\n",
    "[Source](https://blocksandlots.com/property-taxes-in-nyc-all-you-need-to-know/)<br><br>\n",
    "\n",
    "1. **Block and Lot** The combination of borough, block, and lot forms a unique key for property in New York City. Commonly called a BBL\n",
    "[Source](https://blocksandlots.com/property-taxes-in-nyc-all-you-need-to-know/)<br><br>\n",
    " \n",
    "1. **Building Class at present** <br><br>\n",
    "According to [nyc.gov](https://www1.nyc.gov/assets/finance/downloads/pdf/07pdf/glossary_rsf071607.pdf): <br>\n",
    "“The Building Classification is used to describe a property’s constructive use. The first position of the Building Class is a letter that is used to describe a general class of properties (for example “A” signifies one-family homes, “O” signifies office buildings. “R” signifies condominiums). The second position, a number, adds more specific information about the property’s use or construction style (using our previous examples “A0” is a Cape Cod style one family home, “O4” is a tower type office building and “R5” is a commercial condominium unit). The term Building Class used by the Department of Finance is interchangeable with the term Building Code used by the Department of Buildings.”\n",
    "<br><br>\n",
    "Because this feature has direct overlap with many other features, we will likely remove it.<br><br>\n",
    "\n",
    "1. **Address** Is the actual address. Because of the variance we will remove this feature. However, it could be potentially used to crosswalk longitude and latitude, but that would require an additional dataset.<br><br>\n",
    " \n",
    "1. **Zip Code** Zip codes are difficult to work with in machine learning problems because it’s an integer and a higher or lower zip code won’t necessarily mean it’s better or worse. If we are going to use it we will one hot encode.<br><br>\n",
    "\n",
    "1. **Residential Units** are the number of residential units for sale. This is correlated with price as 8 units will likely cost more than 2 in a similar neighborhood. For exploratory analysis we examine the price per unit.<br><br>\n",
    " \n",
    "1. **Land Square Feet** is the land area of the property. This is a valuable feature for predicting price.<br><br>\n",
    " \n",
    "1. **Gross Square Feet** According to nyc.gov: “The total area of all the floors of a building as measured from the exterior surfaces of the outside walls of the building, including the land area and space within any building or structure on the property.”  This is also a valuable feature for predicting price. However, it’s important for compare between this and location as a smaller property in the center of Manhattan, may be more expensive than a much larger property in Staten Island.<br><br>\n",
    " \n",
    "1. **Year Built** is the year the structure was built. Many of the properties were built a long time ago, but it’s worth further testing this feature before elimination. \n",
    "Tax class at time of sale: See above for tax class. It will be difficult to accurately predict this and it has a very high risk of data leakage. This feature will almost certainly be removed.<br><br>\n",
    "\n",
    "1. **Tax Class at Time of Sale** - <br> \n",
    "  &nbsp;[Property Tax Rate](https://www1.nyc.gov/site/finance/taxes/property-tax-rates.page \"Click here to move to NYC property tax rates\") for 2016/2017 was:\n",
    "    - Class 1 - 19.991\\%\t\n",
    "    - Class 2 - 12.892\\%\t\n",
    "    - Class 3 - 10.934\\%\t\n",
    "    - Class 4 - 10.574\\% <br><br>\n",
    "        **Note**:This feature might cause data leakage due to its correlation with SALE PRICE (higher price -> higher tax), and therefore we will not use it in our machine learning algorithm.<br><br>\n",
    "\n",
    "1. **Sale Price** is our target variable. Due to the scope of the business problem we are limiting the dataset to 10,000 and 5,000,0000.<br><br>\n",
    " \n",
    "1. **Sale Date** Is the date of the sale. We may want to look at the sale month to determine if we can purchase a property in a slower month for real estate i.e. buy in the winter cheaply and resell in a hotter month like this the spring.<br>\n"
   ]
  },
  {
   "cell_type": "markdown",
   "metadata": {
    "id": "oT9N7GihijgX"
   },
   "source": [
    "## Exploratory Data Analysis (EDA)\n",
    "\n"
   ]
  },
  {
   "cell_type": "markdown",
   "metadata": {
    "id": "jlRMfDGT68L_"
   },
   "source": [
    "### Residential Units vs. Sale Price\n",
    "\n",
    "We used Seaborn package to plot a boxplot of residential units versus sale price. \n",
    "\n",
    "```\n",
    "plt.figure(figsize=(10,6))\n",
    "sns.boxplot(x='RESIDENTIAL UNITS', y='SALE PRICE', data=df)\n",
    "plt.title('Residential Units vs Sale Price')\n",
    "plt.show()\n",
    "```\n",
    "\n",
    "<center><img  src=\"img/res_vs_saleprice.png\" width = \"70%\" />\n",
    "<br>\n",
    "<b><u>Fig. 3</u></b>: Box plot of Residential Units and Sale Price </center>\n",
    "\n",
    "The mean SALE PRICE of 8 residential units is higher than the mean value of any other number of residential units. Also, mean SALE PRICE increases as the residential units increase up to 8 residential units. Then, it goes down for 9 residential units. Moreover, there are a lot of outliers in 1,2,3, and 4 residential units which could be due to Borough or other parameters that were not taken into account in this plot.\n"
   ]
  },
  {
   "cell_type": "markdown",
   "metadata": {
    "id": "7V4mAJNV9gdo"
   },
   "source": [
    "### Borough vs. Sale Price\n",
    "\n",
    "```\n",
    "plt.figure(figsize=(10,6))\n",
    "sns.boxplot(x='BOROUGH', y='SALE PRICE', data=df)\n",
    "plt.title('Borough vs Sale Price')\n",
    "plt.show()\n",
    "```\n",
    "\n",
    "\n",
    "<center><img  src=\"img/borough_vs_saleprice.png\" width = \"70%\" />\n",
    "<br>\n",
    "<b><u>Fig. 3</u></b>: Borough vs Sale Price </center>\n",
    "\n",
    "Figure 3 presents the distribution of Sale price among Borough. The mean SALE PRICE in Manhattan is the highest. Also, the distribution of SALE PRICE in Manhattan is the longest (up to ~4.5 million without outliers)."
   ]
  },
  {
   "cell_type": "markdown",
   "metadata": {
    "id": "JF47E30lbbzB"
   },
   "source": [
    "### Building Class Category vs Price Per unit\n",
    "\n",
    "We made a new column called price per unit which is the SALE PRICE divided by the number of residential units in order to standardize the data for the next plots. \n",
    "\n",
    "```\n",
    "plt.figure(figsize=(20,6))\n",
    "ax = sns.boxplot(x='BUILDING CLASS CATEGORY', y='price per unit', data=df)\n",
    "ax.set_xticklabels(ax.get_xticklabels(),rotation=45)\n",
    "plt.title('Building Class Category vs Price Per Unit')\n",
    "plt.show()\n",
    "```\n",
    "\n",
    "<center><img  src=\"img/building_category_vs_price_per_unit.png\" width = \"100%\" />\n",
    "<br>\n",
    "<b><u>Fig. 4</u></b>: Building Class Category versus Price Per Unit </center>\n",
    "\n",
    "Across the city, one family dwellings per unit are generally more expensive than two or three faimly dwllings.\n",
    "However, many of the condos are on average more expensive than one family dwellings. This is not taking into account Borough\n",
    "For example, a condo in Manhattan may cost more than a one family dwelling in Staten island. \n",
    "<br><br> \n",
    "\n",
    "```\n",
    "plt.figure(figsize=(20,8))\n",
    "ax = sns.barplot(x='BUILDING CLASS CATEGORY', y='price per unit',hue='BOROUGH', data=df)\n",
    "ax.set_xticklabels(ax.get_xticklabels(),rotation=45)\n",
    "plt.legend(loc='upper right',fontsize=14)\n",
    "plt.title('Price Per Unit vs Building Class Category in each Borough')\n",
    "plt.show()\n",
    "```\n",
    "\n",
    "\n",
    "<center><img  src=\"img/price_vs_bc_&_brorough.png\" width = \"100%\" />\n",
    "<br>\n",
    "<b><u>Fig. 5</u></b>: Price Per Unit vs Building Class Category & Borough </center>\n",
    "\n",
    "It may also be fair to create another category of Manhattan = 1 and the rest 0. We can further use neighborhood to make this determination.\n",
    "<br><br> \n",
    "\n",
    "```\n",
    "manhattendf = df.loc[df['BOROUGH']=='Manhattan']\n",
    "manhattendfn = manhattendf.groupby('NEIGHBORHOOD')['price per unit'].median().reset_index()\n",
    "manhattendfn.rename(columns = {'price per unit':'Median Price Per Unit'}, inplace = True)\n",
    "manhattendfn = manhattendfn.sort_values(by='Median Price Per Unit', ascending=False)\n",
    "manhattendfn = manhattendfn.dropna()\n",
    "plt.figure(figsize=(25,8))\n",
    "ax = sns.barplot(x='NEIGHBORHOOD', y='Median Price Per Unit', data =manhattendfn )\n",
    "ax.set_xticklabels(ax.get_xticklabels(),rotation=90)\n",
    "plt.title('Median Price Per Unit vs. Neighborhood in Manhattan', fontsize = 18)\n",
    "plt.xlabel(\"Neighborhood in Manhattan\", fontsize = 18)\n",
    "plt.ylabel(\"Median Price Per Unit\", fontsize = 18)\n",
    "plt.rcParams[\"xtick.labelsize\"] = 12\n",
    "plt.rcParams[\"ytick.labelsize\"] = 12\n",
    "plt.show()\n",
    "```\n",
    "\n",
    "<center><img  src=\"img/manhattan_ppu.png\" width = \"100%\" />\n",
    "<br>\n",
    "<b><u>Fig. 6</u></b>: Median Price Per Unit distribution among neighborhoods in Manhattan </center>\n",
    "\n",
    "\n",
    "\n",
    "In figure 6, we can clearly see the impact of neighborhood (Location of the property) on the Median Price Per Unit. A property on either Civic Center or SOHO is more likley to be sold in a higher price than a property in INWOOD. "
   ]
  },
  {
   "cell_type": "markdown",
   "metadata": {
    "id": "tIPHdnebiobJ"
   },
   "source": [
    "## Machine Learning Algorithms\n",
    "\n",
    "Accurately predicting the sales price is a regression problem. Because of this we will be creating 3 regression models:\n",
    " \n",
    "* Linear Regression\n",
    " \n",
    "* Decision Tree\n",
    "  \n",
    "* Random Forrest Regressor\n",
    " \n",
    "We will evaluate the model’s performance with root mean square error and mean absolute error."
   ]
  },
  {
   "cell_type": "markdown",
   "metadata": {
    "id": "-GZkiyjBi8tu"
   },
   "source": [
    "## Source\n",
    "\n",
    "Dataset was found at [Kaggle](https://www.kaggle.com/new-york-city/nyc-property-sales). <br>\n",
    "The origin of the data in this dataset is NYC Department of Finance [Rolling Sales](https://www1.nyc.gov/site/finance/taxes/property-rolling-sales-data.page) "
   ]
  }
 ],
 "metadata": {
  "colab": {
   "collapsed_sections": [],
   "name": "Project Proposal.ipynb",
   "provenance": []
  },
  "kernelspec": {
   "display_name": "Python 3 (ipykernel)",
   "language": "python",
   "name": "python3"
  },
  "language_info": {
   "codemirror_mode": {
    "name": "ipython",
    "version": 3
   },
   "file_extension": ".py",
   "mimetype": "text/x-python",
   "name": "python",
   "nbconvert_exporter": "python",
   "pygments_lexer": "ipython3",
   "version": "3.8.11"
  }
 },
 "nbformat": 4,
 "nbformat_minor": 1
}
